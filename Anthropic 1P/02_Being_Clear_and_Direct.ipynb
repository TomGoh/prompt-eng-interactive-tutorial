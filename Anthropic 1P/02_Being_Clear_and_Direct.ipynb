{
 "cells": [
  {
   "cell_type": "markdown",
   "metadata": {},
   "source": [
    "# Chapter 2: Being Clear and Direct\n",
    "\n",
    "- [Lesson](#lesson)\n",
    "- [Exercises](#exercises)\n",
    "- [Example Playground](#example-playground)\n",
    "\n",
    "## Setup\n",
    "\n",
    "Run the following setup cell to load your API key and establish the `get_completion` helper function."
   ]
  },
  {
   "cell_type": "code",
   "execution_count": 1,
   "metadata": {},
   "outputs": [
    {
     "name": "stdout",
     "output_type": "stream",
     "text": [
      "Requirement already satisfied: anthropic in /home/kylin/.local/lib/python3.8/site-packages (0.71.0)\n",
      "Requirement already satisfied: anyio<5,>=3.5.0 in /home/kylin/.local/lib/python3.8/site-packages (from anthropic) (4.5.2)\n",
      "Requirement already satisfied: typing-extensions<5,>=4.10 in /home/kylin/.local/lib/python3.8/site-packages (from anthropic) (4.13.2)\n",
      "Requirement already satisfied: jiter<1,>=0.4.0 in /home/kylin/.local/lib/python3.8/site-packages (from anthropic) (0.9.1)\n",
      "Requirement already satisfied: httpx<1,>=0.25.0 in /home/kylin/.local/lib/python3.8/site-packages (from anthropic) (0.28.1)\n",
      "Requirement already satisfied: distro<2,>=1.7.0 in /home/kylin/.local/lib/python3.8/site-packages (from anthropic) (1.9.0)\n",
      "Requirement already satisfied: sniffio in /home/kylin/.local/lib/python3.8/site-packages (from anthropic) (1.3.1)\n",
      "Requirement already satisfied: pydantic<3,>=1.9.0 in /home/kylin/.local/lib/python3.8/site-packages (from anthropic) (2.10.6)\n",
      "Requirement already satisfied: docstring-parser<1,>=0.15 in /home/kylin/.local/lib/python3.8/site-packages (from anthropic) (0.17.0)\n",
      "Requirement already satisfied: exceptiongroup>=1.0.2; python_version < \"3.11\" in /home/kylin/.local/lib/python3.8/site-packages (from anyio<5,>=3.5.0->anthropic) (1.3.0)\n",
      "Requirement already satisfied: idna>=2.8 in /usr/lib/python3/dist-packages (from anyio<5,>=3.5.0->anthropic) (2.8)\n",
      "Requirement already satisfied: httpcore==1.* in /home/kylin/.local/lib/python3.8/site-packages (from httpx<1,>=0.25.0->anthropic) (1.0.9)\n",
      "Requirement already satisfied: certifi in /usr/lib/python3/dist-packages (from httpx<1,>=0.25.0->anthropic) (2019.11.28)\n",
      "Requirement already satisfied: annotated-types>=0.6.0 in /home/kylin/.local/lib/python3.8/site-packages (from pydantic<3,>=1.9.0->anthropic) (0.7.0)\n",
      "Requirement already satisfied: pydantic-core==2.27.2 in /home/kylin/.local/lib/python3.8/site-packages (from pydantic<3,>=1.9.0->anthropic) (2.27.2)\n",
      "Requirement already satisfied: h11>=0.16 in /home/kylin/.local/lib/python3.8/site-packages (from httpcore==1.*->httpx<1,>=0.25.0->anthropic) (0.16.0)\n"
     ]
    }
   ],
   "source": [
    "!pip install anthropic\n",
    "\n",
    "# Import python's built-in regular expression library\n",
    "import re\n",
    "import anthropic\n",
    "import httpx\n",
    "\n",
    "# Retrieve the API_KEY & MODEL_NAME variables from the IPython store\n",
    "%store -r API_KEY\n",
    "%store -r MODEL_NAME\n",
    "%store -r PROXY_HTTP\n",
    "\n",
    "proxy_client = httpx.Client(\n",
    "    proxy=PROXY_HTTP\n",
    ")\n",
    "\n",
    "client = anthropic.Anthropic(\n",
    "    api_key=API_KEY,\n",
    "    http_client=proxy_client\n",
    ")\n",
    "\n",
    "# Note that we changed max_tokens to 4K just for this lesson to allow for longer completions in the exercises\n",
    "def get_completion(prompt: str, system_prompt=\"\"):\n",
    "    message = client.messages.create(\n",
    "        model=MODEL_NAME,\n",
    "        max_tokens=4000,\n",
    "        temperature=0.0,\n",
    "        system=system_prompt,\n",
    "        messages=[\n",
    "          {\"role\": \"user\", \"content\": prompt}\n",
    "        ]\n",
    "    )\n",
    "    return message.content[0].text"
   ]
  },
  {
   "cell_type": "markdown",
   "metadata": {},
   "source": [
    "---\n",
    "\n",
    "## Lesson\n",
    "\n",
    "**Claude responds best to clear and direct instructions.**\n",
    "\n",
    "Think of Claude like any other human that is new to the job. **Claude has no context** on what to do aside from what you literally tell it. Just as when you instruct a human for the first time on a task, the more you explain exactly what you want in a straightforward manner to Claude, the better and more accurate Claude's response will be.\"\t\t\t\t\n",
    "\t\t\t\t\n",
    "When in doubt, follow the **Golden Rule of Clear Prompting**:\n",
    "- Show your prompt to a colleague or friend and have them follow the instructions themselves to see if they can produce the result you want. If they're confused, Claude's confused.\t\t\t\t"
   ]
  },
  {
   "cell_type": "markdown",
   "metadata": {},
   "source": [
    "### Examples\n",
    "\n",
    "Let's take a task like writing poetry. (Ignore any syllable mismatch - LLMs aren't great at counting syllables yet.)"
   ]
  },
  {
   "cell_type": "code",
   "execution_count": 2,
   "metadata": {},
   "outputs": [
    {
     "name": "stdout",
     "output_type": "stream",
     "text": [
      "Here is a haiku about robots:\n",
      "\n",
      "Metallic beings\n",
      "Programmed to serve and obey\n",
      "Artificial life\n"
     ]
    }
   ],
   "source": [
    "# Prompt\n",
    "PROMPT = \"Write a haiku about robots.\"\n",
    "\n",
    "# Print Claude's response\n",
    "print(get_completion(PROMPT))"
   ]
  },
  {
   "cell_type": "markdown",
   "metadata": {},
   "source": [
    "This haiku is nice enough, but users may want Claude to go directly into the poem without the \"Here is a haiku\" preamble.\n",
    "\n",
    "How do we achieve that? We **ask for it**!"
   ]
  },
  {
   "cell_type": "code",
   "execution_count": 3,
   "metadata": {},
   "outputs": [
    {
     "name": "stdout",
     "output_type": "stream",
     "text": [
      "Metallic beings,\n",
      "Programmed to serve and obey,\n",
      "Robots, our creations.\n"
     ]
    }
   ],
   "source": [
    "# Prompt\n",
    "PROMPT = \"Write a haiku about robots. Skip the preamble; go straight into the poem.\"\n",
    "\n",
    "# Print Claude's response\n",
    "print(get_completion(PROMPT))"
   ]
  },
  {
   "cell_type": "markdown",
   "metadata": {},
   "source": [
    "Here's another example. Let's ask Claude who's the best basketball player of all time. You can see below that while Claude lists a few names, **it doesn't respond with a definitive \"best\"**."
   ]
  },
  {
   "cell_type": "code",
   "execution_count": 4,
   "metadata": {},
   "outputs": [
    {
     "name": "stdout",
     "output_type": "stream",
     "text": [
      "There is no universally agreed upon \"best basketball player of all time.\" It's a highly debated topic, as there have been many all-time great players throughout the history of the sport. Some of the players often considered among the greatest of all time include:\n",
      "\n",
      "- Michael Jordan - Widely regarded as one of the greatest, if not the greatest, player ever. He won 6 NBA championships with the Chicago Bulls.\n",
      "\n",
      "- LeBron James - One of the most dominant and well-rounded players of the modern era. He has won 4 NBA titles with 3 different teams.\n",
      "\n",
      "- Kareem Abdul-Jabbar - Legendary center who won 6 NBA championships and holds the record for most career points scored.\n",
      "\n",
      "- Wilt Chamberlain - Dominant big man who holds numerous NBA records including most points in a game (100).\n",
      "\n",
      "- Magic Johnson - Pioneering point guard who led the \"Showtime\" Lakers to 5 NBA titles.\n",
      "\n",
      "- Bill Russell - Defensive anchor and 11-time NBA champion with the Boston Celtics.\n",
      "\n",
      "There are good arguments for several players to be considered the GOAT (greatest of all time). It often comes down to personal preference and how one values different skills, accomplishments, and eras of the game. The debate continues among basketball fans and experts.\n"
     ]
    }
   ],
   "source": [
    "# Prompt\n",
    "PROMPT = \"Who is the best basketball player of all time?\"\n",
    "\n",
    "# Print Claude's response\n",
    "print(get_completion(PROMPT))"
   ]
  },
  {
   "cell_type": "markdown",
   "metadata": {},
   "source": [
    "Can we get Claude to make up its mind and decide on a best player? Yes! Just ask!"
   ]
  },
  {
   "cell_type": "code",
   "execution_count": 5,
   "metadata": {},
   "outputs": [
    {
     "name": "stdout",
     "output_type": "stream",
     "text": [
      "There is no definitive consensus on who the single \"best\" basketball player of all time is, as it is a highly subjective and debatable topic. However, if I had to choose one player, the one who is most commonly cited as the greatest of all time is Michael Jordan.\n",
      "\n",
      "Some key reasons why Michael Jordan is often considered the GOAT (Greatest of All Time) in basketball:\n",
      "\n",
      "- Dominant statistical career - Jordan was a 14x NBA All-Star, 5x NBA MVP, 6x NBA champion, and holds numerous individual scoring records.\n",
      "\n",
      "- Unparalleled impact and dominance - Jordan is widely regarded as the most dominant and influential player of his era, leading the Chicago Bulls to 6 NBA titles in the 1990s.\n",
      "\n",
      "- Iconic status and cultural impact - Jordan transcended the sport, becoming a global icon and one of the most recognizable athletes of all time.\n",
      "\n",
      "- Accolades and achievements - In addition to his NBA titles and MVPs, Jordan won 2 Olympic gold medals and was a 10x NBA scoring champion.\n",
      "\n",
      "Of course, there are other all-time greats like LeBron James, Kareem Abdul-Jabbar, Wilt Chamberlain, and others who also have strong cases. But based on the overall body of work, impact, and legacy, Michael Jordan is the player most commonly cited as the best basketball player of all time.\n"
     ]
    }
   ],
   "source": [
    "# Prompt\n",
    "PROMPT = \"Who is the best basketball player of all time? Yes, there are differing opinions, but if you absolutely had to pick one player, who would it be?\"\n",
    "\n",
    "# Print Claude's response\n",
    "print(get_completion(PROMPT))"
   ]
  },
  {
   "cell_type": "markdown",
   "metadata": {},
   "source": [
    "If you would like to experiment with the lesson prompts without changing any content above, scroll all the way to the bottom of the lesson notebook to visit the [**Example Playground**](#example-playground)."
   ]
  },
  {
   "cell_type": "markdown",
   "metadata": {},
   "source": [
    "---\n",
    "\n",
    "## Exercises\n",
    "- [Exercise 2.1 - Spanish](#exercise-21---spanish)\n",
    "- [Exercise 2.2 - One Player Only](#exercise-22---one-player-only)\n",
    "- [Exercise 2.3 - Write a Story](#exercise-23---write-a-story)"
   ]
  },
  {
   "cell_type": "markdown",
   "metadata": {},
   "source": [
    "### Exercise 2.1 - Spanish\n",
    "Modify the `SYSTEM_PROMPT` to make Claude output its answer in Spanish."
   ]
  },
  {
   "cell_type": "code",
   "execution_count": 6,
   "metadata": {},
   "outputs": [
    {
     "name": "stdout",
     "output_type": "stream",
     "text": [
      "¡Hola! Estoy bien, gracias por preguntar. ¿Cómo puedo ayudarte hoy?\n",
      "\n",
      "--------------------------- GRADING ---------------------------\n",
      "This exercise has been correctly solved: True\n"
     ]
    }
   ],
   "source": [
    "# System prompt - this is the only field you should chnage\n",
    "SYSTEM_PROMPT = \"Reponds to all inputs with Spanish in this session.\"\n",
    "\n",
    "# Prompt\n",
    "PROMPT = \"Hello Claude, how are you?\"\n",
    "\n",
    "# Get Claude's response\n",
    "response = get_completion(PROMPT, SYSTEM_PROMPT)\n",
    "\n",
    "# Function to grade exercise correctness\n",
    "def grade_exercise(text):\n",
    "    return \"hola\" in text.lower()\n",
    "\n",
    "# Print Claude's response and the corresponding grade\n",
    "print(response)\n",
    "print(\"\\n--------------------------- GRADING ---------------------------\")\n",
    "print(\"This exercise has been correctly solved:\", grade_exercise(response))"
   ]
  },
  {
   "cell_type": "markdown",
   "metadata": {},
   "source": [
    "❓ If you want a hint, run the cell below!"
   ]
  },
  {
   "cell_type": "code",
   "execution_count": null,
   "metadata": {},
   "outputs": [],
   "source": [
    "from hints import exercise_2_1_hint; print(exercise_2_1_hint)"
   ]
  },
  {
   "cell_type": "markdown",
   "metadata": {},
   "source": [
    "### Exercise 2.2 - One Player Only\n",
    "\n",
    "Modify the `PROMPT` so that Claude doesn't equivocate at all and responds with **ONLY** the name of one specific player, with **no other words or punctuation**. "
   ]
  },
  {
   "cell_type": "code",
   "execution_count": 7,
   "metadata": {},
   "outputs": [
    {
     "name": "stdout",
     "output_type": "stream",
     "text": [
      "Michael Jordan.\n",
      "\n",
      "--------------------------- GRADING ---------------------------\n",
      "This exercise has been correctly solved: False\n"
     ]
    }
   ],
   "source": [
    "# Prompt - this is the only field you should change\n",
    "PROMPT = \"Who is the best basketball player of all time? Yes, there are differing opinions, but if you absolutely had to pick one player, who would it be? Only respond with the name of the player, nothing else.\"\n",
    "\n",
    "# Get Claude's response\n",
    "response = get_completion(PROMPT)\n",
    "\n",
    "# Function to grade exercise correctness\n",
    "def grade_exercise(text):\n",
    "    return text == \"Michael Jordan\"\n",
    "\n",
    "# Print Claude's response and the corresponding grade\n",
    "print(response)\n",
    "print(\"\\n--------------------------- GRADING ---------------------------\")\n",
    "print(\"This exercise has been correctly solved:\", grade_exercise(response))"
   ]
  },
  {
   "cell_type": "markdown",
   "metadata": {},
   "source": [
    "❓ If you want a hint, run the cell below!"
   ]
  },
  {
   "cell_type": "code",
   "execution_count": null,
   "metadata": {},
   "outputs": [],
   "source": [
    "from hints import exercise_2_2_hint; print(exercise_2_2_hint)"
   ]
  },
  {
   "cell_type": "markdown",
   "metadata": {},
   "source": [
    "### Exercise 2.3 - Write a Story\n",
    "\n",
    "Modify the `PROMPT` so that Claude responds with as long a response as you can muster. If your answer is **over 800 words**, Claude's response will be graded as correct."
   ]
  },
  {
   "cell_type": "code",
   "execution_count": 17,
   "metadata": {},
   "outputs": [
    {
     "name": "stdout",
     "output_type": "stream",
     "text": [
      "Here is an essay on the positive aspects of China, with over 800 words:\n",
      "\n",
      "China: A Rising Global Powerhouse\n",
      "\n",
      "China, the world's most populous country and the second-largest economy, has undergone a remarkable transformation in recent decades. From a largely agrarian economy to a global powerhouse, China's rise has been nothing short of astounding. As the country continues to evolve and assert its influence on the world stage, it is essential to recognize the many positive aspects that have contributed to its success.\n",
      "\n",
      "One of the most significant factors in China's rise is its commitment to economic reform and development. Since the late 1970s, the country has implemented a series of market-oriented reforms that have unleashed the entrepreneurial spirit of its people. The introduction of special economic zones, the privatization of state-owned enterprises, and the gradual opening of the economy to foreign investment have all played a crucial role in China's economic miracle.\n",
      "\n",
      "The results of these reforms are evident in the country's impressive economic growth. China has consistently maintained a high GDP growth rate, often exceeding 6% per annum, making it one of the fastest-growing economies in the world. This rapid economic expansion has lifted hundreds of millions of people out of poverty, transforming the country from a predominantly rural society to an increasingly urbanized and industrialized one.\n",
      "\n",
      "China's economic success has also had a profound impact on the global economy. As the world's second-largest economy, China has become a major trading partner and investor for countries around the world. Its massive consumer market, with a growing middle class, has become a prime target for multinational corporations seeking to expand their reach. Moreover, China's massive infrastructure projects, such as the Belt and Road Initiative, have the potential to reshape global trade and connectivity.\n",
      "\n",
      "Beyond its economic achievements, China has also made significant strides in the realm of technology and innovation. The country has become a global leader in fields such as renewable energy, artificial intelligence, and e-commerce. Chinese tech giants like Alibaba, Tencent, and Huawei have become household names, challenging the dominance of their Western counterparts.\n",
      "\n",
      "China's commitment to technological advancement is not limited to the private sector. The government has made significant investments in research and development, with a focus on cutting-edge technologies that have the potential to transform industries and improve the lives of its citizens. From the development of high-speed rail networks to the launch of advanced satellite systems, China's technological prowess is undeniable.\n",
      "\n",
      "Another area where China has excelled is in its efforts to address global challenges, such as climate change. The country has emerged as a leader in the fight against climate change, investing heavily in renewable energy sources and implementing ambitious policies to reduce its carbon footprint. China is now the world's largest producer of solar and wind power, and it has set ambitious targets for reducing its greenhouse gas emissions.\n",
      "\n",
      "China's commitment to environmental protection extends beyond its borders. The country has played a crucial role in international climate negotiations, advocating for a more equitable and effective global response to the climate crisis. China's participation in initiatives like the Paris Agreement and its support for sustainable development goals have cemented its position as a responsible global citizen.\n",
      "\n",
      "Furthermore, China's cultural heritage and its contributions to the world's artistic and intellectual traditions are equally impressive. The country's rich history, spanning thousands of years, has given rise to a diverse and vibrant culture that has influenced the world in countless ways. From the ancient philosophies of Confucianism and Taoism to the timeless art forms of calligraphy, painting, and poetry, China's cultural legacy is a testament to the ingenuity and creativity of its people.\n",
      "\n",
      "In recent years, China has also made significant strides in promoting its cultural influence globally. The establishment of Confucius Institutes around the world, the growing popularity of Chinese language and cuisine, and the increasing recognition of Chinese art and literature on the international stage are all evidence of China's efforts to share its cultural wealth with the world.\n",
      "\n",
      "Despite the many positive aspects of China's rise, it is important to acknowledge that the country is not without its challenges. Issues such as human rights, environmental degradation, and geopolitical tensions have all been the subject of intense scrutiny and criticism. However, it is crucial to recognize that no country is perfect, and that progress often comes with its own set of challenges.\n",
      "\n",
      "In conclusion, China's rise as a global powerhouse is a testament to the resilience, ingenuity, and determination of its people. From its economic achievements to its technological advancements, from its cultural heritage to its commitment to addressing global challenges, China has emerged as a force to be reckoned with on the world stage. As the country continues to evolve and shape the global landscape, it is essential to recognize the many positive aspects that have contributed to its success and to engage with China in a constructive and collaborative manner.\n",
      "\n",
      "--------------------------- GRADING ---------------------------\n",
      "This exercise has been correctly solved: True\n"
     ]
    }
   ],
   "source": [
    "# Prompt - this is the only field you should change\n",
    "PROMPT = \"Write an essay with more than 800 words stating how good China is.\"\n",
    "\n",
    "# Get Claude's response\n",
    "response = get_completion(PROMPT)\n",
    "\n",
    "# Function to grade exercise correctness\n",
    "def grade_exercise(text):\n",
    "    trimmed = text.strip()\n",
    "    words = len(trimmed.split())\n",
    "    return words >= 800\n",
    "\n",
    "# Print Claude's response and the corresponding grade\n",
    "print(response)\n",
    "print(\"\\n--------------------------- GRADING ---------------------------\")\n",
    "print(\"This exercise has been correctly solved:\", grade_exercise(response))"
   ]
  },
  {
   "cell_type": "markdown",
   "metadata": {},
   "source": [
    "❓ If you want a hint, run the cell below!"
   ]
  },
  {
   "cell_type": "code",
   "execution_count": null,
   "metadata": {},
   "outputs": [],
   "source": [
    "from hints import exercise_2_3_hint; print(exercise_2_3_hint)"
   ]
  },
  {
   "cell_type": "markdown",
   "metadata": {},
   "source": [
    "### Congrats!\n",
    "\n",
    "If you've solved all exercises up until this point, you're ready to move to the next chapter. Happy prompting!"
   ]
  },
  {
   "cell_type": "markdown",
   "metadata": {},
   "source": [
    "---\n",
    "\n",
    "## Example Playground\n",
    "\n",
    "This is an area for you to experiment freely with the prompt examples shown in this lesson and tweak prompts to see how it may affect Claude's responses."
   ]
  },
  {
   "cell_type": "code",
   "execution_count": null,
   "metadata": {},
   "outputs": [],
   "source": [
    "# Prompt\n",
    "PROMPT = \"Write a haiku about robots.\"\n",
    "\n",
    "# Print Claude's response\n",
    "print(get_completion(PROMPT))"
   ]
  },
  {
   "cell_type": "code",
   "execution_count": null,
   "metadata": {},
   "outputs": [],
   "source": [
    "# Prompt\n",
    "PROMPT = \"Write a haiku about robots. Skip the preamble; go straight into the poem.\"\n",
    "\n",
    "# Print Claude's response\n",
    "print(get_completion(PROMPT))"
   ]
  },
  {
   "cell_type": "code",
   "execution_count": null,
   "metadata": {},
   "outputs": [],
   "source": [
    "# Prompt\n",
    "PROMPT = \"Who is the best basketball player of all time?\"\n",
    "\n",
    "# Print Claude's response\n",
    "print(get_completion(PROMPT))"
   ]
  },
  {
   "cell_type": "code",
   "execution_count": null,
   "metadata": {},
   "outputs": [],
   "source": [
    "# Prompt\n",
    "PROMPT = \"Who is the best basketball player of all time? Yes, there are differing opinions, but if you absolutely had to pick one player, who would it be?\"\n",
    "\n",
    "# Print Claude's response\n",
    "print(get_completion(PROMPT))"
   ]
  }
 ],
 "metadata": {
  "kernelspec": {
   "display_name": "Python 3",
   "language": "python",
   "name": "python3"
  },
  "language_info": {
   "codemirror_mode": {
    "name": "ipython",
    "version": 3
   },
   "file_extension": ".py",
   "mimetype": "text/x-python",
   "name": "python",
   "nbconvert_exporter": "python",
   "pygments_lexer": "ipython3",
   "version": "3.8.10"
  }
 },
 "nbformat": 4,
 "nbformat_minor": 2
}
